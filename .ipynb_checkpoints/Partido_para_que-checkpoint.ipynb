{
 "cells": [
  {
   "cell_type": "markdown",
   "metadata": {
    "colab_type": "text",
    "id": "wk3yVGXvnh1K"
   },
   "source": [
    "# Partido para Quê?"
   ]
  },
  {
   "cell_type": "markdown",
   "metadata": {},
   "source": [
    "As a Brazilian, I have many doubts about the necessity of many political parties in Brazil. Currently, there are 35 parties and an [Oxford study](https://www.bbc.com/portuguese/brasil-43288018) has shown that they could be reduce to only 2. Therefore, the objective of this project is answer the title question: \"Partido para quê?\" (which mean **\"Parties for what?\"** in Portuguese), throughout the analysis of voting patterns. \n",
    "\n",
    "\n",
    "It will be used **Clustering Techniques** to classify Brazilians Senators based on their voting history of the past 3 years."
   ]
  },
  {
   "cell_type": "code",
   "execution_count": 1,
   "metadata": {},
   "outputs": [
    {
     "name": "stdout",
     "output_type": "stream",
     "text": [
      "Requirement already satisfied: pandas in c:\\python 3.7.1\\lib\\site-packages (0.23.4)\n",
      "Requirement already satisfied: sqlalchemy in c:\\python 3.7.1\\lib\\site-packages (1.2.14)\n",
      "Requirement already satisfied: python-dateutil>=2.5.0 in c:\\python 3.7.1\\lib\\site-packages (from pandas) (2.7.5)\n",
      "Requirement already satisfied: numpy>=1.9.0 in c:\\python 3.7.1\\lib\\site-packages (from pandas) (1.15.4)\n",
      "Requirement already satisfied: pytz>=2011k in c:\\python 3.7.1\\lib\\site-packages (from pandas) (2018.7)\n",
      "Requirement already satisfied: six>=1.5 in c:\\python 3.7.1\\lib\\site-packages (from python-dateutil>=2.5.0->pandas) (1.11.0)\n"
     ]
    },
    {
     "name": "stderr",
     "output_type": "stream",
     "text": [
      "You are using pip version 10.0.1, however version 18.1 is available.\n",
      "You should consider upgrading via the 'python -m pip install --upgrade pip' command.\n"
     ]
    }
   ],
   "source": [
    "# Install Requirements\n",
    "!pip install pandas sqlalchemy"
   ]
  },
  {
   "cell_type": "markdown",
   "metadata": {},
   "source": [
    "# Data"
   ]
  },
  {
   "cell_type": "markdown",
   "metadata": {},
   "source": [
    "## Description"
   ]
  },
  {
   "cell_type": "markdown",
   "metadata": {},
   "source": [
    "The data is available in the file `database.db`. This database contains 2 tables:\n",
    "- **Senadores**: Table with the Senators info (id, code, name, sex, state, party).\n",
    "- **Votos**: Table with the voting info (id, senator, session, vote)\n",
    "\n",
    "All the data used was collected though the [Senate API](http://legis.senado.leg.br/dadosabertos/docs/ui/index.html). The script with the source code which collects the data is available in this repository. TODO: REPOLINK."
   ]
  },
  {
   "cell_type": "markdown",
   "metadata": {},
   "source": [
    "## Visualization\n",
    "\n",
    "Lets start by loading the data from the database to two **Pandas** `DataFrame` objects."
   ]
  },
  {
   "cell_type": "code",
   "execution_count": 19,
   "metadata": {},
   "outputs": [
    {
     "data": {
      "text/html": [
       "<div>\n",
       "<style scoped>\n",
       "    .dataframe tbody tr th:only-of-type {\n",
       "        vertical-align: middle;\n",
       "    }\n",
       "\n",
       "    .dataframe tbody tr th {\n",
       "        vertical-align: top;\n",
       "    }\n",
       "\n",
       "    .dataframe thead th {\n",
       "        text-align: right;\n",
       "    }\n",
       "</style>\n",
       "<table border=\"1\" class=\"dataframe\">\n",
       "  <thead>\n",
       "    <tr style=\"text-align: right;\">\n",
       "      <th></th>\n",
       "      <th>SenadorID</th>\n",
       "      <th>SenadorCod</th>\n",
       "      <th>NomeCompleto</th>\n",
       "      <th>Sexo</th>\n",
       "      <th>Estado</th>\n",
       "      <th>PartidoSigla</th>\n",
       "    </tr>\n",
       "  </thead>\n",
       "  <tbody>\n",
       "    <tr>\n",
       "      <th>0</th>\n",
       "      <td>1</td>\n",
       "      <td>4981</td>\n",
       "      <td>Acir Marcos Gurgacz</td>\n",
       "      <td>Masculino</td>\n",
       "      <td>RO</td>\n",
       "      <td>PDT</td>\n",
       "    </tr>\n",
       "    <tr>\n",
       "      <th>1</th>\n",
       "      <td>2</td>\n",
       "      <td>5140</td>\n",
       "      <td>Airton Sandoval Santana</td>\n",
       "      <td>Masculino</td>\n",
       "      <td>SP</td>\n",
       "      <td>MDB</td>\n",
       "    </tr>\n",
       "    <tr>\n",
       "      <th>2</th>\n",
       "      <td>3</td>\n",
       "      <td>945</td>\n",
       "      <td>Alvaro Fernandes Dias</td>\n",
       "      <td>Masculino</td>\n",
       "      <td>PR</td>\n",
       "      <td>PODE</td>\n",
       "    </tr>\n",
       "    <tr>\n",
       "      <th>3</th>\n",
       "      <td>4</td>\n",
       "      <td>4988</td>\n",
       "      <td>Ana Amélia de Lemos</td>\n",
       "      <td>Feminino</td>\n",
       "      <td>RS</td>\n",
       "      <td>PP</td>\n",
       "    </tr>\n",
       "    <tr>\n",
       "      <th>4</th>\n",
       "      <td>5</td>\n",
       "      <td>5529</td>\n",
       "      <td>Antonio Augusto Junho Anastasia</td>\n",
       "      <td>Masculino</td>\n",
       "      <td>MG</td>\n",
       "      <td>PSDB</td>\n",
       "    </tr>\n",
       "  </tbody>\n",
       "</table>\n",
       "</div>"
      ],
      "text/plain": [
       "   SenadorID  SenadorCod                     NomeCompleto       Sexo Estado  \\\n",
       "0          1        4981              Acir Marcos Gurgacz  Masculino     RO   \n",
       "1          2        5140          Airton Sandoval Santana  Masculino     SP   \n",
       "2          3         945            Alvaro Fernandes Dias  Masculino     PR   \n",
       "3          4        4988              Ana Amélia de Lemos   Feminino     RS   \n",
       "4          5        5529  Antonio Augusto Junho Anastasia  Masculino     MG   \n",
       "\n",
       "  PartidoSigla  \n",
       "0          PDT  \n",
       "1          MDB  \n",
       "2         PODE  \n",
       "3           PP  \n",
       "4         PSDB  "
      ]
     },
     "execution_count": 19,
     "metadata": {},
     "output_type": "execute_result"
    }
   ],
   "source": [
    "# Imports\n",
    "import pandas as pd\n",
    "from sqlalchemy import create_engine\n",
    "from sqlalchemy.orm import sessionmaker\n",
    "\n",
    "# Create DB Engine and Session\n",
    "engine = create_engine('sqlite:///database.db')\n",
    "DBSession = sessionmaker(bind=engine)\n",
    "session = DBSession()\n",
    "\n",
    "# All field from Senatores Table\n",
    "query_senators = 'SELECT * FROM Senadores'\n",
    "senators = pd.read_sql(query_senators, session.bind)\n",
    "\n",
    "# 5 First values\n",
    "senators.head()\n"
   ]
  },
  {
   "cell_type": "markdown",
   "metadata": {},
   "source": [
    "Similarly, we can do the same to the voting table."
   ]
  },
  {
   "cell_type": "code",
   "execution_count": 20,
   "metadata": {},
   "outputs": [
    {
     "data": {
      "text/html": [
       "<div>\n",
       "<style scoped>\n",
       "    .dataframe tbody tr th:only-of-type {\n",
       "        vertical-align: middle;\n",
       "    }\n",
       "\n",
       "    .dataframe tbody tr th {\n",
       "        vertical-align: top;\n",
       "    }\n",
       "\n",
       "    .dataframe thead th {\n",
       "        text-align: right;\n",
       "    }\n",
       "</style>\n",
       "<table border=\"1\" class=\"dataframe\">\n",
       "  <thead>\n",
       "    <tr style=\"text-align: right;\">\n",
       "      <th></th>\n",
       "      <th>VotoID</th>\n",
       "      <th>SenadorID</th>\n",
       "      <th>SessaoID</th>\n",
       "      <th>Voto</th>\n",
       "    </tr>\n",
       "  </thead>\n",
       "  <tbody>\n",
       "    <tr>\n",
       "      <th>0</th>\n",
       "      <td>0</td>\n",
       "      <td>40</td>\n",
       "      <td>44809</td>\n",
       "      <td>Sim</td>\n",
       "    </tr>\n",
       "    <tr>\n",
       "      <th>1</th>\n",
       "      <td>3</td>\n",
       "      <td>40</td>\n",
       "      <td>44949</td>\n",
       "      <td>Sim</td>\n",
       "    </tr>\n",
       "    <tr>\n",
       "      <th>2</th>\n",
       "      <td>7</td>\n",
       "      <td>40</td>\n",
       "      <td>45483</td>\n",
       "      <td>Sim</td>\n",
       "    </tr>\n",
       "    <tr>\n",
       "      <th>3</th>\n",
       "      <td>8</td>\n",
       "      <td>40</td>\n",
       "      <td>44589</td>\n",
       "      <td>Sim</td>\n",
       "    </tr>\n",
       "    <tr>\n",
       "      <th>4</th>\n",
       "      <td>9</td>\n",
       "      <td>40</td>\n",
       "      <td>42415</td>\n",
       "      <td>Sim</td>\n",
       "    </tr>\n",
       "  </tbody>\n",
       "</table>\n",
       "</div>"
      ],
      "text/plain": [
       "   VotoID  SenadorID  SessaoID Voto\n",
       "0       0         40     44809  Sim\n",
       "1       3         40     44949  Sim\n",
       "2       7         40     45483  Sim\n",
       "3       8         40     44589  Sim\n",
       "4       9         40     42415  Sim"
      ]
     },
     "execution_count": 20,
     "metadata": {},
     "output_type": "execute_result"
    }
   ],
   "source": [
    "\n",
    "# All field from Votos Table\n",
    "query_votes = 'SELECT * FROM Votos'\n",
    "votes = pd.read_sql(query_votes, session.bind)\n",
    "\n",
    "# Close DB session\n",
    "session.close()\n",
    "\n",
    "# Show first 5 values\n",
    "votes.head()"
   ]
  },
  {
   "cell_type": "markdown",
   "metadata": {},
   "source": [
    "## Cleaning and Preparation\n",
    "\n",
    "Let's if the DataFrames have any missing values."
   ]
  },
  {
   "cell_type": "code",
   "execution_count": 21,
   "metadata": {},
   "outputs": [
    {
     "name": "stdout",
     "output_type": "stream",
     "text": [
      "Total of missing entries in Senators: 0\n",
      "Total of missing entries in Votes: 0\n"
     ]
    }
   ],
   "source": [
    "# Missing values check\n",
    "print(\"Total of missing entries in Senators: \" + str(senators.isnull().sum().sum()))\n",
    "print(\"Total of missing entries in Votes: \" + str(votes.isnull().sum().sum()))"
   ]
  },
  {
   "cell_type": "markdown",
   "metadata": {},
   "source": [
    "Apparently, there are no missing values in the table. \n",
    "\n",
    "Checking the ~~bad~~ [API Documentation](http://legis.senado.leg.br/dadosabertos/docs/ui/index.html), we can see that there are multiple possible values for the `vote` column. With the exception of `Sim` and `Não`, all values represent different kinds of abstesions. \n",
    "\n",
    "**These values are listed bellow.**\n"
   ]
  },
  {
   "cell_type": "code",
   "execution_count": 22,
   "metadata": {},
   "outputs": [
    {
     "data": {
      "text/plain": [
       "array(['Sim', 'MIS', 'AP ', 'P-NRV', 'Não', 'LS ', 'Abstenção',\n",
       "       'Presidente (art. 51 RISF)', 'LP ', 'NCom'], dtype=object)"
      ]
     },
     "execution_count": 22,
     "metadata": {},
     "output_type": "execute_result"
    }
   ],
   "source": [
    "# All possible votes values\n",
    "votes['Voto'].unique()"
   ]
  },
  {
   "cell_type": "markdown",
   "metadata": {},
   "source": [
    "These values will be remaped to the following values.\n",
    "\n",
    "Vote | Value\n",
    "-------|-------\n",
    "Sim | 1\n",
    "Não | 0\n",
    "All others (abstensions) | 0.5\n",
    "\n",
    "For this, the following function was defined and applied."
   ]
  },
  {
   "cell_type": "code",
   "execution_count": 27,
   "metadata": {},
   "outputs": [
    {
     "data": {
      "text/html": [
       "<div>\n",
       "<style scoped>\n",
       "    .dataframe tbody tr th:only-of-type {\n",
       "        vertical-align: middle;\n",
       "    }\n",
       "\n",
       "    .dataframe tbody tr th {\n",
       "        vertical-align: top;\n",
       "    }\n",
       "\n",
       "    .dataframe thead th {\n",
       "        text-align: right;\n",
       "    }\n",
       "</style>\n",
       "<table border=\"1\" class=\"dataframe\">\n",
       "  <thead>\n",
       "    <tr style=\"text-align: right;\">\n",
       "      <th></th>\n",
       "      <th>VotoID</th>\n",
       "      <th>SenadorID</th>\n",
       "      <th>SessaoID</th>\n",
       "      <th>Voto</th>\n",
       "    </tr>\n",
       "  </thead>\n",
       "  <tbody>\n",
       "    <tr>\n",
       "      <th>0</th>\n",
       "      <td>0</td>\n",
       "      <td>40</td>\n",
       "      <td>44809</td>\n",
       "      <td>1.0</td>\n",
       "    </tr>\n",
       "    <tr>\n",
       "      <th>1</th>\n",
       "      <td>3</td>\n",
       "      <td>40</td>\n",
       "      <td>44949</td>\n",
       "      <td>1.0</td>\n",
       "    </tr>\n",
       "    <tr>\n",
       "      <th>2</th>\n",
       "      <td>7</td>\n",
       "      <td>40</td>\n",
       "      <td>45483</td>\n",
       "      <td>1.0</td>\n",
       "    </tr>\n",
       "    <tr>\n",
       "      <th>3</th>\n",
       "      <td>8</td>\n",
       "      <td>40</td>\n",
       "      <td>44589</td>\n",
       "      <td>1.0</td>\n",
       "    </tr>\n",
       "    <tr>\n",
       "      <th>4</th>\n",
       "      <td>9</td>\n",
       "      <td>40</td>\n",
       "      <td>42415</td>\n",
       "      <td>1.0</td>\n",
       "    </tr>\n",
       "  </tbody>\n",
       "</table>\n",
       "</div>"
      ],
      "text/plain": [
       "   VotoID  SenadorID  SessaoID  Voto\n",
       "0       0         40     44809   1.0\n",
       "1       3         40     44949   1.0\n",
       "2       7         40     45483   1.0\n",
       "3       8         40     44589   1.0\n",
       "4       9         40     42415   1.0"
      ]
     },
     "execution_count": 27,
     "metadata": {},
     "output_type": "execute_result"
    }
   ],
   "source": [
    "def votes_remap(v):\n",
    "    # Check if columns is numeric\n",
    "    if isinstance(v, str):\n",
    "        if v == 'Sim':\n",
    "            return 1\n",
    "        elif v == 'Não':\n",
    "            return 0\n",
    "        else:\n",
    "            return .5\n",
    "    else:\n",
    "        return v\n",
    "votes['Voto'] = votes['Voto'].apply(votes_remap)\n",
    "votes['Voto'] = votes['Voto'].astype(float)\n",
    "votes.head()\n"
   ]
  },
  {
   "cell_type": "markdown",
   "metadata": {},
   "source": [
    "Alright, now we have two clean dataframes containig the information needed to perform the analysis. However, the data is still defined in two different DataFrames and not exactly in correct format (**Istances x Attributes**)."
   ]
  },
  {
   "cell_type": "markdown",
   "metadata": {},
   "source": [
    "\n",
    "First, let's perform a **Pivot Table** on the `votes` DataFrame. This way, each row will be a senator and the columns will represent the voting behaviour of this senator in each session."
   ]
  },
  {
   "cell_type": "code",
   "execution_count": null,
   "metadata": {},
   "outputs": [],
   "source": [
    "As we can see, most of the field in the Tables are self explanatory. The detailed format will be except"
   ]
  },
  {
   "cell_type": "code",
   "execution_count": null,
   "metadata": {},
   "outputs": [],
   "source": []
  }
 ],
 "metadata": {
  "colab": {
   "collapsed_sections": [],
   "name": "Partido_para_que.ipynb",
   "provenance": [],
   "version": "0.3.2"
  },
  "kernelspec": {
   "display_name": "Python 3",
   "language": "python",
   "name": "python3"
  },
  "language_info": {
   "codemirror_mode": {
    "name": "ipython",
    "version": 3
   },
   "file_extension": ".py",
   "mimetype": "text/x-python",
   "name": "python",
   "nbconvert_exporter": "python",
   "pygments_lexer": "ipython3",
   "version": "3.6.5"
  },
  "latex_envs": {
   "LaTeX_envs_menu_present": true,
   "autoclose": false,
   "autocomplete": true,
   "bibliofile": "biblio.bib",
   "cite_by": "apalike",
   "current_citInitial": 1,
   "eqLabelWithNumbers": true,
   "eqNumInitial": 1,
   "hotkeys": {
    "equation": "Ctrl-E",
    "itemize": "Ctrl-I"
   },
   "labels_anchors": false,
   "latex_user_defs": false,
   "report_style_numbering": false,
   "user_envs_cfg": false
  },
  "nbTranslate": {
   "displayLangs": [
    "*"
   ],
   "hotkey": "alt-t",
   "langInMainMenu": true,
   "sourceLang": "en",
   "targetLang": "fr",
   "useGoogleTranslate": true
  }
 },
 "nbformat": 4,
 "nbformat_minor": 2
}
