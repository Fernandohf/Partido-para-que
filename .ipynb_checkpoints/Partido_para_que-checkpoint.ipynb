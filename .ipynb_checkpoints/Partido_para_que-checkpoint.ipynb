{
 "cells": [
  {
   "cell_type": "markdown",
   "metadata": {
    "colab_type": "text",
    "id": "wk3yVGXvnh1K"
   },
   "source": [
    "# Partido para Quê?"
   ]
  },
  {
   "cell_type": "markdown",
   "metadata": {},
   "source": [
    "As a Brazilian, I have many doubts about the necessity of many political parties in Brazil. Currently, there are 35 parties and an [Oxford study](https://www.bbc.com/portuguese/brasil-43288018) has shown that they could be reduce to only 2. Therefore, the objective of this project is answer the title question: \"Partido para quê?\" (which mean **\"Parties for what?\"** in Portuguese), throughout the analysis of voting patterns. \n",
    "\n",
    "\n",
    "It will be used **Clustering Techniques** to classify Brazilians Senators based on their voting history of the past TODO: NUMBER OF years."
   ]
  },
  {
   "cell_type": "markdown",
   "metadata": {},
   "source": [
    "# Data"
   ]
  },
  {
   "cell_type": "markdown",
   "metadata": {},
   "source": [
    "## Description"
   ]
  },
  {
   "cell_type": "markdown",
   "metadata": {},
   "source": [
    "The data is available in the file `database.db`. This database contains 2 tables:\n",
    "- **Senators**: Table with the Senators info (id, code, name, sex, state, party).\n",
    "- **Votes**: Table with the voting info (id, senator, session, vote)\n",
    "\n",
    "All the data used was collected though the [Senate API](http://legis.senado.leg.br/dadosabertos/docs/ui/index.html). The script with the source code which collects the data is available in this repository. TODO: REPOLINK.\n",
    "\n",
    "Lets start by loading the data from the database to a `pandas` **Dataframe**."
   ]
  },
  {
   "cell_type": "code",
   "execution_count": null,
   "metadata": {},
   "outputs": [],
   "source": [
    "# Imports\n",
    "import pandas as pd\n",
    "\n",
    "senators = pd.\n",
    "\n"
   ]
  },
  {
   "cell_type": "code",
   "execution_count": null,
   "metadata": {},
   "outputs": [],
   "source": [
    "As we can see, most of the field in the Tables are self explanatory. The detailed format will be except"
   ]
  }
 ],
 "metadata": {
  "colab": {
   "collapsed_sections": [],
   "name": "Partido_para_que.ipynb",
   "provenance": [],
   "version": "0.3.2"
  },
  "kernelspec": {
   "display_name": "Python 3",
   "language": "python",
   "name": "python3"
  },
  "language_info": {
   "codemirror_mode": {
    "name": "ipython",
    "version": 3
   },
   "file_extension": ".py",
   "mimetype": "text/x-python",
   "name": "python",
   "nbconvert_exporter": "python",
   "pygments_lexer": "ipython3",
   "version": "3.6.5"
  },
  "latex_envs": {
   "LaTeX_envs_menu_present": true,
   "autoclose": false,
   "autocomplete": true,
   "bibliofile": "biblio.bib",
   "cite_by": "apalike",
   "current_citInitial": 1,
   "eqLabelWithNumbers": true,
   "eqNumInitial": 1,
   "hotkeys": {
    "equation": "Ctrl-E",
    "itemize": "Ctrl-I"
   },
   "labels_anchors": false,
   "latex_user_defs": false,
   "report_style_numbering": false,
   "user_envs_cfg": false
  },
  "nbTranslate": {
   "displayLangs": [
    "*"
   ],
   "hotkey": "alt-t",
   "langInMainMenu": true,
   "sourceLang": "en",
   "targetLang": "fr",
   "useGoogleTranslate": true
  }
 },
 "nbformat": 4,
 "nbformat_minor": 2
}
